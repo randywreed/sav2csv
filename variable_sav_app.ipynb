{
 "cells": [
  {
   "cell_type": "markdown",
   "metadata": {
    "colab_type": "text",
    "id": "view-in-github"
   },
   "source": [
    "<a href=\"https://colab.research.google.com/github/randywreed/sav2csv/blob/master/variable_sav_app.ipynb\" target=\"_parent\"><img src=\"https://colab.research.google.com/assets/colab-badge.svg\" alt=\"Open In Colab\"/></a>"
   ]
  },
  {
   "cell_type": "code",
   "execution_count": 75,
   "metadata": {
    "colab": {
     "base_uri": "https://localhost:8080/",
     "height": 1000
    },
    "id": "clOqzd347MX_",
    "outputId": "c6ff51c2-847e-47e6-9569-51170fb3b00e"
   },
   "outputs": [
    {
     "name": "stdout",
     "output_type": "stream",
     "text": [
      "Requirement already satisfied: voila in /home/randy/anaconda3/lib/python3.7/site-packages (0.2.3)\n",
      "Requirement already satisfied: jupyter-server<2.0.0,>=0.3.0 in /home/randy/anaconda3/lib/python3.7/site-packages (from voila) (1.0.1)\n",
      "Requirement already satisfied: nbconvert<7,>=6.0.0 in /home/randy/anaconda3/lib/python3.7/site-packages (from voila) (6.0.6)\n",
      "Requirement already satisfied: jupyter-client<7,>=6.1.3 in /home/randy/anaconda3/lib/python3.7/site-packages (from voila) (6.1.5)\n",
      "Requirement already satisfied: nbclient<0.6,>=0.4.0 in /home/randy/anaconda3/lib/python3.7/site-packages (from voila) (0.5.0)\n",
      "Requirement already satisfied: traitlets>=4.2.1 in /home/randy/anaconda3/lib/python3.7/site-packages (from jupyter-server<2.0.0,>=0.3.0->voila) (4.3.2)\n",
      "Requirement already satisfied: ipython-genutils in /home/randy/anaconda3/lib/python3.7/site-packages (from jupyter-server<2.0.0,>=0.3.0->voila) (0.2.0)\n",
      "Requirement already satisfied: jupyter-core>=4.4.0 in /home/randy/anaconda3/lib/python3.7/site-packages (from jupyter-server<2.0.0,>=0.3.0->voila) (4.6.3)\n",
      "Requirement already satisfied: Send2Trash in /home/randy/anaconda3/lib/python3.7/site-packages (from jupyter-server<2.0.0,>=0.3.0->voila) (1.5.0)\n",
      "Requirement already satisfied: tornado>=5.0 in /home/randy/anaconda3/lib/python3.7/site-packages (from jupyter-server<2.0.0,>=0.3.0->voila) (6.0.4)\n",
      "Requirement already satisfied: nbformat in /home/randy/anaconda3/lib/python3.7/site-packages (from jupyter-server<2.0.0,>=0.3.0->voila) (5.0.7)\n",
      "Requirement already satisfied: terminado>=0.8.3 in /home/randy/anaconda3/lib/python3.7/site-packages (from jupyter-server<2.0.0,>=0.3.0->voila) (0.9.1)\n",
      "Requirement already satisfied: pyzmq>=17 in /home/randy/anaconda3/lib/python3.7/site-packages (from jupyter-server<2.0.0,>=0.3.0->voila) (18.0.0)\n",
      "Requirement already satisfied: jinja2 in /home/randy/anaconda3/lib/python3.7/site-packages (from jupyter-server<2.0.0,>=0.3.0->voila) (2.10)\n",
      "Requirement already satisfied: prometheus-client in /home/randy/anaconda3/lib/python3.7/site-packages (from jupyter-server<2.0.0,>=0.3.0->voila) (0.6.0)\n",
      "Requirement already satisfied: pandocfilters>=1.4.1 in /home/randy/anaconda3/lib/python3.7/site-packages (from nbconvert<7,>=6.0.0->voila) (1.4.2)\n",
      "Requirement already satisfied: testpath in /home/randy/anaconda3/lib/python3.7/site-packages (from nbconvert<7,>=6.0.0->voila) (0.4.2)\n",
      "Requirement already satisfied: entrypoints>=0.2.2 in /home/randy/anaconda3/lib/python3.7/site-packages (from nbconvert<7,>=6.0.0->voila) (0.3)\n",
      "Requirement already satisfied: defusedxml in /home/randy/anaconda3/lib/python3.7/site-packages (from nbconvert<7,>=6.0.0->voila) (0.5.0)\n",
      "Requirement already satisfied: pygments>=2.4.1 in /home/randy/anaconda3/lib/python3.7/site-packages (from nbconvert<7,>=6.0.0->voila) (2.6.1)\n",
      "Requirement already satisfied: mistune<2,>=0.8.1 in /home/randy/anaconda3/lib/python3.7/site-packages (from nbconvert<7,>=6.0.0->voila) (0.8.4)\n",
      "Requirement already satisfied: jupyterlab-pygments in /home/randy/anaconda3/lib/python3.7/site-packages (from nbconvert<7,>=6.0.0->voila) (0.1.1)\n",
      "Requirement already satisfied: bleach in /home/randy/anaconda3/lib/python3.7/site-packages (from nbconvert<7,>=6.0.0->voila) (3.1.0)\n",
      "Requirement already satisfied: python-dateutil>=2.1 in /home/randy/anaconda3/lib/python3.7/site-packages (from jupyter-client<7,>=6.1.3->voila) (2.8.0)\n",
      "Requirement already satisfied: nest-asyncio in /home/randy/anaconda3/lib/python3.7/site-packages (from nbclient<0.6,>=0.4.0->voila) (1.4.0)\n",
      "Requirement already satisfied: async-generator in /home/randy/anaconda3/lib/python3.7/site-packages (from nbclient<0.6,>=0.4.0->voila) (1.10)\n",
      "Requirement already satisfied: six in /home/randy/anaconda3/lib/python3.7/site-packages (from traitlets>=4.2.1->jupyter-server<2.0.0,>=0.3.0->voila) (1.12.0)\n",
      "Requirement already satisfied: decorator in /home/randy/anaconda3/lib/python3.7/site-packages (from traitlets>=4.2.1->jupyter-server<2.0.0,>=0.3.0->voila) (4.4.0)\n",
      "Requirement already satisfied: jsonschema!=2.5.0,>=2.4 in /home/randy/anaconda3/lib/python3.7/site-packages (from nbformat->jupyter-server<2.0.0,>=0.3.0->voila) (2.6.0)\n",
      "Requirement already satisfied: ptyprocess; os_name != \"nt\" in /home/randy/anaconda3/lib/python3.7/site-packages (from terminado>=0.8.3->jupyter-server<2.0.0,>=0.3.0->voila) (0.6.0)\n",
      "Requirement already satisfied: MarkupSafe>=0.23 in /home/randy/anaconda3/lib/python3.7/site-packages (from jinja2->jupyter-server<2.0.0,>=0.3.0->voila) (1.1.1)\n",
      "Requirement already satisfied: webencodings in /home/randy/anaconda3/lib/python3.7/site-packages (from bleach->nbconvert<7,>=6.0.0->voila) (0.5.1)\n",
      "\u001b[33mWARNING: You are using pip version 20.1.1; however, version 20.2.3 is available.\n",
      "You should consider upgrading via the '/home/randy/anaconda3/bin/python -m pip install --upgrade pip' command.\u001b[0m\n",
      "Enabling: voila\n",
      "- Writing config: /home/randy/.jupyter\n",
      "    - Validating...\n",
      "      voila 0.2.3 \u001b[32mOK\u001b[0m\n",
      "Enabling: —sys-prefix\n",
      "- Writing config: /home/randy/.jupyter\n",
      "    - Validating...\n",
      "Error loading server extension —sys-prefix\n",
      "     \u001b[31m X\u001b[0m is —sys-prefix importable?\n",
      "Enabling notebook extension jupyter-js-widgets/extension...\n",
      "      - Validating: \u001b[32mOK\u001b[0m\n",
      "Collecting ipython_blocking\n",
      "  Downloading ipython_blocking-0.2.1.tar.gz (5.4 kB)\n",
      "Requirement already satisfied: IPython in /home/randy/anaconda3/lib/python3.7/site-packages (from ipython_blocking) (7.16.1)\n",
      "Requirement already satisfied: ipywidgets in /home/randy/anaconda3/lib/python3.7/site-packages (from ipython_blocking) (7.5.1)\n",
      "Requirement already satisfied: decorator in /home/randy/anaconda3/lib/python3.7/site-packages (from IPython->ipython_blocking) (4.4.0)\n",
      "Requirement already satisfied: pickleshare in /home/randy/anaconda3/lib/python3.7/site-packages (from IPython->ipython_blocking) (0.7.5)\n",
      "Requirement already satisfied: traitlets>=4.2 in /home/randy/anaconda3/lib/python3.7/site-packages (from IPython->ipython_blocking) (4.3.2)\n",
      "Requirement already satisfied: prompt-toolkit!=3.0.0,!=3.0.1,<3.1.0,>=2.0.0 in /home/randy/anaconda3/lib/python3.7/site-packages (from IPython->ipython_blocking) (2.0.9)\n",
      "Requirement already satisfied: pexpect; sys_platform != \"win32\" in /home/randy/anaconda3/lib/python3.7/site-packages (from IPython->ipython_blocking) (4.6.0)\n",
      "Requirement already satisfied: backcall in /home/randy/anaconda3/lib/python3.7/site-packages (from IPython->ipython_blocking) (0.1.0)\n",
      "Requirement already satisfied: pygments in /home/randy/anaconda3/lib/python3.7/site-packages (from IPython->ipython_blocking) (2.6.1)\n",
      "Requirement already satisfied: jedi>=0.10 in /home/randy/anaconda3/lib/python3.7/site-packages (from IPython->ipython_blocking) (0.17.0)\n",
      "Requirement already satisfied: setuptools>=18.5 in /home/randy/anaconda3/lib/python3.7/site-packages (from IPython->ipython_blocking) (46.4.0)\n",
      "Requirement already satisfied: ipykernel>=4.5.1 in /home/randy/anaconda3/lib/python3.7/site-packages (from ipywidgets->ipython_blocking) (5.3.1)\n",
      "Requirement already satisfied: widgetsnbextension~=3.5.0 in /home/randy/anaconda3/lib/python3.7/site-packages (from ipywidgets->ipython_blocking) (3.5.1)\n",
      "Requirement already satisfied: nbformat>=4.2.0 in /home/randy/anaconda3/lib/python3.7/site-packages (from ipywidgets->ipython_blocking) (5.0.7)\n",
      "Requirement already satisfied: six in /home/randy/anaconda3/lib/python3.7/site-packages (from traitlets>=4.2->IPython->ipython_blocking) (1.12.0)\n",
      "Requirement already satisfied: ipython-genutils in /home/randy/anaconda3/lib/python3.7/site-packages (from traitlets>=4.2->IPython->ipython_blocking) (0.2.0)\n",
      "Requirement already satisfied: wcwidth in /home/randy/anaconda3/lib/python3.7/site-packages (from prompt-toolkit!=3.0.0,!=3.0.1,<3.1.0,>=2.0.0->IPython->ipython_blocking) (0.1.7)\n",
      "Requirement already satisfied: ptyprocess>=0.5 in /home/randy/anaconda3/lib/python3.7/site-packages (from pexpect; sys_platform != \"win32\"->IPython->ipython_blocking) (0.6.0)\n",
      "Requirement already satisfied: parso>=0.7.0 in /home/randy/anaconda3/lib/python3.7/site-packages (from jedi>=0.10->IPython->ipython_blocking) (0.7.0)\n",
      "Requirement already satisfied: tornado>=4.2 in /home/randy/anaconda3/lib/python3.7/site-packages (from ipykernel>=4.5.1->ipywidgets->ipython_blocking) (6.0.4)\n",
      "Requirement already satisfied: jupyter-client in /home/randy/anaconda3/lib/python3.7/site-packages (from ipykernel>=4.5.1->ipywidgets->ipython_blocking) (6.1.5)\n",
      "Requirement already satisfied: notebook>=4.4.1 in /home/randy/anaconda3/lib/python3.7/site-packages (from widgetsnbextension~=3.5.0->ipywidgets->ipython_blocking) (5.7.8)\n"
     ]
    },
    {
     "name": "stdout",
     "output_type": "stream",
     "text": [
      "Requirement already satisfied: jupyter-core in /home/randy/anaconda3/lib/python3.7/site-packages (from nbformat>=4.2.0->ipywidgets->ipython_blocking) (4.6.3)\n",
      "Requirement already satisfied: jsonschema!=2.5.0,>=2.4 in /home/randy/anaconda3/lib/python3.7/site-packages (from nbformat>=4.2.0->ipywidgets->ipython_blocking) (2.6.0)\n",
      "Requirement already satisfied: pyzmq>=13 in /home/randy/anaconda3/lib/python3.7/site-packages (from jupyter-client->ipykernel>=4.5.1->ipywidgets->ipython_blocking) (18.0.0)\n",
      "Requirement already satisfied: python-dateutil>=2.1 in /home/randy/anaconda3/lib/python3.7/site-packages (from jupyter-client->ipykernel>=4.5.1->ipywidgets->ipython_blocking) (2.8.0)\n",
      "Requirement already satisfied: prometheus-client in /home/randy/anaconda3/lib/python3.7/site-packages (from notebook>=4.4.1->widgetsnbextension~=3.5.0->ipywidgets->ipython_blocking) (0.6.0)\n",
      "Requirement already satisfied: terminado>=0.8.1 in /home/randy/anaconda3/lib/python3.7/site-packages (from notebook>=4.4.1->widgetsnbextension~=3.5.0->ipywidgets->ipython_blocking) (0.9.1)\n",
      "Requirement already satisfied: Send2Trash in /home/randy/anaconda3/lib/python3.7/site-packages (from notebook>=4.4.1->widgetsnbextension~=3.5.0->ipywidgets->ipython_blocking) (1.5.0)\n",
      "Requirement already satisfied: nbconvert in /home/randy/anaconda3/lib/python3.7/site-packages (from notebook>=4.4.1->widgetsnbextension~=3.5.0->ipywidgets->ipython_blocking) (6.0.6)\n",
      "Requirement already satisfied: jinja2 in /home/randy/anaconda3/lib/python3.7/site-packages (from notebook>=4.4.1->widgetsnbextension~=3.5.0->ipywidgets->ipython_blocking) (2.10)\n",
      "Requirement already satisfied: mistune<2,>=0.8.1 in /home/randy/anaconda3/lib/python3.7/site-packages (from nbconvert->notebook>=4.4.1->widgetsnbextension~=3.5.0->ipywidgets->ipython_blocking) (0.8.4)\n",
      "Requirement already satisfied: nbclient<0.6.0,>=0.5.0 in /home/randy/anaconda3/lib/python3.7/site-packages (from nbconvert->notebook>=4.4.1->widgetsnbextension~=3.5.0->ipywidgets->ipython_blocking) (0.5.0)\n",
      "Requirement already satisfied: entrypoints>=0.2.2 in /home/randy/anaconda3/lib/python3.7/site-packages (from nbconvert->notebook>=4.4.1->widgetsnbextension~=3.5.0->ipywidgets->ipython_blocking) (0.3)\n",
      "Requirement already satisfied: pandocfilters>=1.4.1 in /home/randy/anaconda3/lib/python3.7/site-packages (from nbconvert->notebook>=4.4.1->widgetsnbextension~=3.5.0->ipywidgets->ipython_blocking) (1.4.2)\n",
      "Requirement already satisfied: defusedxml in /home/randy/anaconda3/lib/python3.7/site-packages (from nbconvert->notebook>=4.4.1->widgetsnbextension~=3.5.0->ipywidgets->ipython_blocking) (0.5.0)\n",
      "Requirement already satisfied: bleach in /home/randy/anaconda3/lib/python3.7/site-packages (from nbconvert->notebook>=4.4.1->widgetsnbextension~=3.5.0->ipywidgets->ipython_blocking) (3.1.0)\n",
      "Requirement already satisfied: testpath in /home/randy/anaconda3/lib/python3.7/site-packages (from nbconvert->notebook>=4.4.1->widgetsnbextension~=3.5.0->ipywidgets->ipython_blocking) (0.4.2)\n",
      "Requirement already satisfied: jupyterlab-pygments in /home/randy/anaconda3/lib/python3.7/site-packages (from nbconvert->notebook>=4.4.1->widgetsnbextension~=3.5.0->ipywidgets->ipython_blocking) (0.1.1)\n",
      "Requirement already satisfied: MarkupSafe>=0.23 in /home/randy/anaconda3/lib/python3.7/site-packages (from jinja2->notebook>=4.4.1->widgetsnbextension~=3.5.0->ipywidgets->ipython_blocking) (1.1.1)\n",
      "Requirement already satisfied: nest-asyncio in /home/randy/anaconda3/lib/python3.7/site-packages (from nbclient<0.6.0,>=0.5.0->nbconvert->notebook>=4.4.1->widgetsnbextension~=3.5.0->ipywidgets->ipython_blocking) (1.4.0)\n",
      "Requirement already satisfied: async-generator in /home/randy/anaconda3/lib/python3.7/site-packages (from nbclient<0.6.0,>=0.5.0->nbconvert->notebook>=4.4.1->widgetsnbextension~=3.5.0->ipywidgets->ipython_blocking) (1.10)\n",
      "Requirement already satisfied: webencodings in /home/randy/anaconda3/lib/python3.7/site-packages (from bleach->nbconvert->notebook>=4.4.1->widgetsnbextension~=3.5.0->ipywidgets->ipython_blocking) (0.5.1)\n",
      "Building wheels for collected packages: ipython-blocking\n",
      "  Building wheel for ipython-blocking (setup.py) ... \u001b[?25ldone\n",
      "\u001b[?25h  Created wheel for ipython-blocking: filename=ipython_blocking-0.2.1-py3-none-any.whl size=6028 sha256=d5670d80ed0d85e45579f8acbd35aaeb4a4e7c56ccfb339e69e78e62e7a6cb53\n",
      "  Stored in directory: /home/randy/.cache/pip/wheels/9f/03/12/e626994b2ba0aad81c32af1dc469dfb4442d4001392f34eab4\n",
      "Successfully built ipython-blocking\n",
      "Installing collected packages: ipython-blocking\n",
      "Successfully installed ipython-blocking-0.2.1\n",
      "\u001b[33mWARNING: You are using pip version 20.1.1; however, version 20.2.3 is available.\n",
      "You should consider upgrading via the '/home/randy/anaconda3/bin/python -m pip install --upgrade pip' command.\u001b[0m\n"
     ]
    }
   ],
   "source": [
    "!pip install voila\n",
    "!jupyter serverextension enable voila —sys-prefix\n",
    "!jupyter nbextension enable --py widgetsnbextension\n",
    "!pip install ipython_blocking"
   ]
  },
  {
   "cell_type": "code",
   "execution_count": 76,
   "metadata": {
    "colab": {
     "base_uri": "https://localhost:8080/",
     "height": 68
    },
    "id": "Ty1kBChZilGE",
    "outputId": "9fe3554b-90bc-4e09-efb2-adcc1c2b13f4"
   },
   "outputs": [
    {
     "name": "stderr",
     "output_type": "stream",
     "text": [
      "[nltk_data] Downloading package stopwords to /home/randy/nltk_data...\n",
      "[nltk_data]   Package stopwords is already up-to-date!\n"
     ]
    },
    {
     "data": {
      "text/plain": [
       "True"
      ]
     },
     "execution_count": 76,
     "metadata": {},
     "output_type": "execute_result"
    }
   ],
   "source": [
    "from nltk.corpus import stopwords\n",
    "import nltk\n",
    "nltk.download('stopwords')"
   ]
  },
  {
   "cell_type": "code",
   "execution_count": 77,
   "metadata": {
    "colab": {
     "base_uri": "https://localhost:8080/",
     "height": 187
    },
    "id": "KryubwpjWuVd",
    "outputId": "1c959da6-3bd9-4b78-f34a-2a70dcc00ee9"
   },
   "outputs": [
    {
     "name": "stdout",
     "output_type": "stream",
     "text": [
      "Requirement already satisfied: pyreadstat in /home/randy/anaconda3/lib/python3.7/site-packages (1.0.2)\n",
      "Requirement already satisfied: pandas>0.24.0 in /home/randy/anaconda3/lib/python3.7/site-packages (from pyreadstat) (1.0.3)\n",
      "Requirement already satisfied: pytz>=2017.2 in /home/randy/anaconda3/lib/python3.7/site-packages (from pandas>0.24.0->pyreadstat) (2019.1)\n",
      "Requirement already satisfied: numpy>=1.13.3 in /home/randy/anaconda3/lib/python3.7/site-packages (from pandas>0.24.0->pyreadstat) (1.18.4)\n",
      "Requirement already satisfied: python-dateutil>=2.6.1 in /home/randy/anaconda3/lib/python3.7/site-packages (from pandas>0.24.0->pyreadstat) (2.8.0)\n",
      "Requirement already satisfied: six>=1.5 in /home/randy/anaconda3/lib/python3.7/site-packages (from python-dateutil>=2.6.1->pandas>0.24.0->pyreadstat) (1.12.0)\n",
      "\u001b[33mWARNING: You are using pip version 20.1.1; however, version 20.2.3 is available.\n",
      "You should consider upgrading via the '/home/randy/anaconda3/bin/python -m pip install --upgrade pip' command.\u001b[0m\n"
     ]
    }
   ],
   "source": [
    "!pip install pyreadstat\n",
    "import pandas as pd"
   ]
  },
  {
   "cell_type": "code",
   "execution_count": 1,
   "metadata": {
    "id": "5MxEzQJVWD2t"
   },
   "outputs": [],
   "source": [
    "import ipywidgets as widgets\n",
    "import ipython_blocking"
   ]
  },
  {
   "cell_type": "code",
   "execution_count": 2,
   "metadata": {
    "id": "gGSL35UnWHXh"
   },
   "outputs": [],
   "source": [
    "from IPython.display import display"
   ]
  },
  {
   "cell_type": "code",
   "execution_count": 18,
   "metadata": {
    "colab": {
     "base_uri": "https://localhost:8080/",
     "height": 49,
     "referenced_widgets": [
      "5039d35e11974b35860ba751d601164a",
      "34414df12fee44d6bb5ddb2618e5432c",
      "d83aaa20d8df487fb9db64677324b484"
     ]
    },
    "id": "n6P6WjQ5WTNl",
    "outputId": "4047bbd9-d1a0-49dd-a2d1-69d05d6a9301"
   },
   "outputs": [
    {
     "name": "stdout",
     "output_type": "stream",
     "text": [
      "click continue button to continue after upload\n"
     ]
    },
    {
     "data": {
      "application/vnd.jupyter.widget-view+json": {
       "model_id": "c1c6a856041d4c0cb6783aafa07798e5",
       "version_major": 2,
       "version_minor": 0
      },
      "text/plain": [
       "FileUpload(value={}, accept='.sav', description='Upload')"
      ]
     },
     "metadata": {},
     "output_type": "display_data"
    },
    {
     "data": {
      "application/vnd.jupyter.widget-view+json": {
       "model_id": "46f8ca878fd54c97bed2501b185e4fea",
       "version_major": 2,
       "version_minor": 0
      },
      "text/plain": [
       "Button(description='continue', style=ButtonStyle())"
      ]
     },
     "metadata": {},
     "output_type": "display_data"
    },
    {
     "data": {
      "application/javascript": [
       "Jupyter.notebook.select_next().execute_cells_below()"
      ],
      "text/plain": [
       "<IPython.core.display.Javascript object>"
      ]
     },
     "metadata": {},
     "output_type": "display_data"
    }
   ],
   "source": [
    "upload=widgets.FileUpload(accept=\".sav\",multiple=False)\n",
    "print('click continue button to continue after upload')\n",
    "button=widgets.Button(description=\"continue\")\n",
    "display(upload,button)\n"
   ]
  },
  {
   "cell_type": "code",
   "execution_count": 21,
   "metadata": {},
   "outputs": [],
   "source": [
    "\n",
    "%blockrun button"
   ]
  },
  {
   "cell_type": "code",
   "execution_count": 22,
   "metadata": {},
   "outputs": [],
   "source": [
    "\n",
    "with open (upload.metadata[0]['name'],\"w+b\") as i:\n",
    "  i.write(upload.data[0])"
   ]
  },
  {
   "cell_type": "code",
   "execution_count": 23,
   "metadata": {
    "id": "UM_KJNzZWlZl"
   },
   "outputs": [],
   "source": [
    "import pyreadstat\n",
    "df,meta=pyreadstat.read_sav(upload.metadata[0]['name'])"
   ]
  },
  {
   "cell_type": "code",
   "execution_count": 24,
   "metadata": {
    "colab": {
     "base_uri": "https://localhost:8080/",
     "height": 71
    },
    "id": "_ieuew52b3pp",
    "outputId": "0f9df034-0ce1-497b-d653-a47b8c37a23a"
   },
   "outputs": [
    {
     "name": "stderr",
     "output_type": "stream",
     "text": [
      "/home/randy/anaconda3/lib/python3.7/site-packages/ipykernel_launcher.py:1: UserWarning: Pandas doesn't allow columns to be created via a new attribute name - see https://pandas.pydata.org/pandas-docs/stable/indexing.html#attribute-access\n",
      "  \"\"\"Entry point for launching an IPython kernel.\n"
     ]
    }
   ],
   "source": [
    "df.colmnns=meta.column_names"
   ]
  },
  {
   "cell_type": "code",
   "execution_count": 25,
   "metadata": {
    "id": "ArqawwAqcKF4"
   },
   "outputs": [],
   "source": [
    "klab={}\n",
    "klab=meta.column_names_to_labels\n",
    "#type(klab)"
   ]
  },
  {
   "cell_type": "code",
   "execution_count": 26,
   "metadata": {
    "id": "Aog3ZfIRg3yV"
   },
   "outputs": [],
   "source": [
    "labs=[]\n",
    "for k,v in klab.items():\n",
    "  #print(\"{}:{}\".format(k,v))\n",
    "  labs.append([k,v])"
   ]
  },
  {
   "cell_type": "code",
   "execution_count": 27,
   "metadata": {
    "id": "xqyLwPyWcLjP"
   },
   "outputs": [],
   "source": [
    "df_enriched=pyreadstat.set_value_labels(df,meta,formats_as_category=True)"
   ]
  },
  {
   "cell_type": "code",
   "execution_count": 28,
   "metadata": {
    "id": "FwD3nTHyiU92"
   },
   "outputs": [],
   "source": [
    "def strip_it(initialsent):\n",
    "  import string, re\n",
    "  en_stops=set(stopwords.words('english'))\n",
    "  #update stopwords\n",
    "  en_stops.remove('not')\n",
    "  newstopwords=['what','why','who','when','where','how','many']\n",
    "  en_stops.update(newstopwords)\n",
    "  #remove puntuation, stopwords, and add spaces to runon words \n",
    "  translator = str.maketrans('', '', string.punctuation)\n",
    "  newvar=initialsent.translate(translator)\n",
    "  #print('after punctuation strip=',newvar)\n",
    "  newvar=re.sub(r'([a-z](?=[A-Z])|[A-Z](?=[A-Z][a-z]))', r'\\1 ', newvar)\n",
    "  #print('add spaces if necessary=',newvar)\n",
    "  c_split=newvar.split(\" \")\n",
    "  c_strip=\"\"\n",
    "  c_stripns=\"\"\n",
    "  for word in c_split:\n",
    "    if str.lower(word) not in en_stops:\n",
    "      c_strip=c_strip+word+\" \"\n",
    "      c_stripns=c_stripns+word+\"_\"\n",
    "  c_stripns=c_stripns.rstrip('_')\n",
    "  return (c_stripns,c_strip)\n"
   ]
  },
  {
   "cell_type": "code",
   "execution_count": 29,
   "metadata": {
    "id": "9xLqJiYVdRqC"
   },
   "outputs": [],
   "source": [
    "def create_options(lab,val):\n",
    "  out=[]\n",
    "  ret=strip_it(val)\n",
    "  out=[lab,ret[0],ret[1],\"other\"]\n",
    "  return out"
   ]
  },
  {
   "cell_type": "code",
   "execution_count": 30,
   "metadata": {
    "id": "FTotdtdCrnMr"
   },
   "outputs": [],
   "source": [
    "import os\n",
    "base=os.path.basename(upload.metadata[0]['name'])\n",
    "newfile=os.path.splitext(base)\n",
    "#print(newfile[0])\n",
    "df_enriched.to_csv(newfile[0]+\".csv\")"
   ]
  },
  {
   "cell_type": "code",
   "execution_count": 31,
   "metadata": {},
   "outputs": [],
   "source": [
    "from IPython.display import FileLink\n",
    "# Import a module to delete the file\n",
    "import os\n",
    "# Create a download function\n",
    "def csv_download_link(df, csv_file_name, delete_prompt=True):\n",
    "    \"\"\"Display a download link to load a data frame as csv within a Jupyter notebook\n",
    "\n",
    "    Parameters\n",
    "    ----------\n",
    "    df : pandas data frame\n",
    "    csv_file_name : str\n",
    "    delete_prompt : bool\n",
    "    \"\"\"\n",
    "    df.to_csv(csv_file_name, index=False)\n",
    "    display(FileLink(csv_file_name))\n",
    "    if delete_prompt:\n",
    "        a = input('Right-click link to download, then Press enter to delete the file after you have downloaded it.')\n",
    "        os.remove(csv_file_name)\n"
   ]
  },
  {
   "cell_type": "code",
   "execution_count": 32,
   "metadata": {
    "colab": {
     "base_uri": "https://localhost:8080/",
     "height": 17
    },
    "id": "qxjl6ap1CI1m",
    "outputId": "8bac5a1f-14b1-44b6-ed78-123671ec1a1d"
   },
   "outputs": [
    {
     "data": {
      "text/html": [
       "<a href='Measuring Morality Study, 2012.csv' target='_blank'>Measuring Morality Study, 2012.csv</a><br>"
      ],
      "text/plain": [
       "/home/randy/sav2csv/Measuring Morality Study, 2012.csv"
      ]
     },
     "metadata": {},
     "output_type": "display_data"
    },
    {
     "name": "stdout",
     "output_type": "stream",
     "text": [
      "Right-click link to download, then Press enter to delete the file after you have downloaded it.\n"
     ]
    }
   ],
   "source": [
    "if 'google.colab' in str(get_ipython()):\n",
    "  from google.colab import files\n",
    "  files.download(newfile[0]+'.csv')\n",
    "else:\n",
    "  csv_download_link(df_enriched,newfile[0]+'.csv')"
   ]
  },
  {
   "cell_type": "code",
   "execution_count": null,
   "metadata": {},
   "outputs": [],
   "source": []
  }
 ],
 "metadata": {
  "colab": {
   "authorship_tag": "ABX9TyOq9LGCvh2sk3AbUHmFxhLN",
   "collapsed_sections": [],
   "include_colab_link": true,
   "name": "variable_sav_app.ipynb",
   "provenance": []
  },
  "kernelspec": {
   "display_name": "Python 3",
   "language": "python",
   "name": "python3"
  },
  "language_info": {
   "codemirror_mode": {
    "name": "ipython",
    "version": 3
   },
   "file_extension": ".py",
   "mimetype": "text/x-python",
   "name": "python",
   "nbconvert_exporter": "python",
   "pygments_lexer": "ipython3",
   "version": "3.7.3"
  },
  "widgets": {
   "application/vnd.jupyter.widget-state+json": {
    "34414df12fee44d6bb5ddb2618e5432c": {
     "model_module": "@jupyter-widgets/controls",
     "model_name": "ButtonStyleModel",
     "state": {
      "_model_module": "@jupyter-widgets/controls",
      "_model_module_version": "1.5.0",
      "_model_name": "ButtonStyleModel",
      "_view_count": null,
      "_view_module": "@jupyter-widgets/base",
      "_view_module_version": "1.2.0",
      "_view_name": "StyleView",
      "button_color": null,
      "font_weight": ""
     }
    },
    "5039d35e11974b35860ba751d601164a": {
     "model_module": "@jupyter-widgets/controls",
     "model_name": "FileUploadModel",
     "state": {
      "_counter": 1,
      "_dom_classes": [],
      "_model_module": "@jupyter-widgets/controls",
      "_model_module_version": "1.5.0",
      "_model_name": "FileUploadModel",
      "_view_count": null,
      "_view_module": "@jupyter-widgets/controls",
      "_view_module_version": "1.5.0",
      "_view_name": "FileUploadView",
      "accept": ".sav",
      "button_style": "",
      "data": [
       null
      ],
      "description": "Upload",
      "description_tooltip": null,
      "disabled": false,
      "error": "",
      "icon": "upload",
      "layout": "IPY_MODEL_d83aaa20d8df487fb9db64677324b484",
      "metadata": [
       {
        "lastModified": 1601225247706,
        "name": "Measuring Morality Study, 2012.SAV",
        "size": 971006,
        "type": "application/x-spss-sav"
       }
      ],
      "multiple": false,
      "style": "IPY_MODEL_34414df12fee44d6bb5ddb2618e5432c"
     }
    },
    "d83aaa20d8df487fb9db64677324b484": {
     "model_module": "@jupyter-widgets/base",
     "model_name": "LayoutModel",
     "state": {
      "_model_module": "@jupyter-widgets/base",
      "_model_module_version": "1.2.0",
      "_model_name": "LayoutModel",
      "_view_count": null,
      "_view_module": "@jupyter-widgets/base",
      "_view_module_version": "1.2.0",
      "_view_name": "LayoutView",
      "align_content": null,
      "align_items": null,
      "align_self": null,
      "border": null,
      "bottom": null,
      "display": null,
      "flex": null,
      "flex_flow": null,
      "grid_area": null,
      "grid_auto_columns": null,
      "grid_auto_flow": null,
      "grid_auto_rows": null,
      "grid_column": null,
      "grid_gap": null,
      "grid_row": null,
      "grid_template_areas": null,
      "grid_template_columns": null,
      "grid_template_rows": null,
      "height": null,
      "justify_content": null,
      "justify_items": null,
      "left": null,
      "margin": null,
      "max_height": null,
      "max_width": null,
      "min_height": null,
      "min_width": null,
      "object_fit": null,
      "object_position": null,
      "order": null,
      "overflow": null,
      "overflow_x": null,
      "overflow_y": null,
      "padding": null,
      "right": null,
      "top": null,
      "visibility": null,
      "width": null
     }
    }
   }
  }
 },
 "nbformat": 4,
 "nbformat_minor": 1
}
